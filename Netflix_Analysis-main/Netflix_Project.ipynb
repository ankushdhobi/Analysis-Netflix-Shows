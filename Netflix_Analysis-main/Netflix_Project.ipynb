{
 "cells": [
  {
   "cell_type": "code",
   "execution_count": 82,
   "id": "b9f154a6-fa24-4896-8952-6fa40722616c",
   "metadata": {},
   "outputs": [],
   "source": [
    "import pandas as pd\n",
    "import numpy as np\n",
    "import matplotlib.pyplot as plt\n",
    "import seaborn as sns"
   ]
  },
  {
   "cell_type": "code",
   "execution_count": 84,
   "id": "e79e0173-73d0-42ac-a2b5-dc513e52ecef",
   "metadata": {},
   "outputs": [],
   "source": [
    "#----------------------------------------------Netflix TV Shows and Movies-------------------------------------------------"
   ]
  },
  {
   "cell_type": "code",
   "execution_count": 11,
   "id": "15c2feec-aebb-473d-bc72-d696fb9b7b95",
   "metadata": {
    "scrolled": true
   },
   "outputs": [
    {
     "data": {
      "text/html": [
       "<div>\n",
       "<style scoped>\n",
       "    .dataframe tbody tr th:only-of-type {\n",
       "        vertical-align: middle;\n",
       "    }\n",
       "\n",
       "    .dataframe tbody tr th {\n",
       "        vertical-align: top;\n",
       "    }\n",
       "\n",
       "    .dataframe thead th {\n",
       "        text-align: right;\n",
       "    }\n",
       "</style>\n",
       "<table border=\"1\" class=\"dataframe\">\n",
       "  <thead>\n",
       "    <tr style=\"text-align: right;\">\n",
       "      <th></th>\n",
       "      <th>id</th>\n",
       "      <th>title</th>\n",
       "      <th>type</th>\n",
       "      <th>description</th>\n",
       "      <th>release_year</th>\n",
       "      <th>age_certification</th>\n",
       "      <th>runtime</th>\n",
       "      <th>genres</th>\n",
       "      <th>production_countries</th>\n",
       "      <th>seasons</th>\n",
       "      <th>imdb_id</th>\n",
       "      <th>imdb_score</th>\n",
       "      <th>imdb_votes</th>\n",
       "      <th>tmdb_popularity</th>\n",
       "      <th>tmdb_score</th>\n",
       "    </tr>\n",
       "  </thead>\n",
       "  <tbody>\n",
       "    <tr>\n",
       "      <th>0</th>\n",
       "      <td>ts300399</td>\n",
       "      <td>Five Came Back: The Reference Films</td>\n",
       "      <td>SHOW</td>\n",
       "      <td>This collection includes 12 World War II-era p...</td>\n",
       "      <td>1945</td>\n",
       "      <td>TV-MA</td>\n",
       "      <td>51</td>\n",
       "      <td>['documentation']</td>\n",
       "      <td>['US']</td>\n",
       "      <td>1.0</td>\n",
       "      <td>NaN</td>\n",
       "      <td>NaN</td>\n",
       "      <td>NaN</td>\n",
       "      <td>0.600</td>\n",
       "      <td>NaN</td>\n",
       "    </tr>\n",
       "    <tr>\n",
       "      <th>1</th>\n",
       "      <td>tm84618</td>\n",
       "      <td>Taxi Driver</td>\n",
       "      <td>MOVIE</td>\n",
       "      <td>A mentally unstable Vietnam War veteran works ...</td>\n",
       "      <td>1976</td>\n",
       "      <td>R</td>\n",
       "      <td>114</td>\n",
       "      <td>['drama', 'crime']</td>\n",
       "      <td>['US']</td>\n",
       "      <td>NaN</td>\n",
       "      <td>tt0075314</td>\n",
       "      <td>8.2</td>\n",
       "      <td>808582.0</td>\n",
       "      <td>40.965</td>\n",
       "      <td>8.179</td>\n",
       "    </tr>\n",
       "    <tr>\n",
       "      <th>2</th>\n",
       "      <td>tm154986</td>\n",
       "      <td>Deliverance</td>\n",
       "      <td>MOVIE</td>\n",
       "      <td>Intent on seeing the Cahulawassee River before...</td>\n",
       "      <td>1972</td>\n",
       "      <td>R</td>\n",
       "      <td>109</td>\n",
       "      <td>['drama', 'action', 'thriller', 'european']</td>\n",
       "      <td>['US']</td>\n",
       "      <td>NaN</td>\n",
       "      <td>tt0068473</td>\n",
       "      <td>7.7</td>\n",
       "      <td>107673.0</td>\n",
       "      <td>10.010</td>\n",
       "      <td>7.300</td>\n",
       "    </tr>\n",
       "    <tr>\n",
       "      <th>3</th>\n",
       "      <td>tm127384</td>\n",
       "      <td>Monty Python and the Holy Grail</td>\n",
       "      <td>MOVIE</td>\n",
       "      <td>King Arthur, accompanied by his squire, recrui...</td>\n",
       "      <td>1975</td>\n",
       "      <td>PG</td>\n",
       "      <td>91</td>\n",
       "      <td>['fantasy', 'action', 'comedy']</td>\n",
       "      <td>['GB']</td>\n",
       "      <td>NaN</td>\n",
       "      <td>tt0071853</td>\n",
       "      <td>8.2</td>\n",
       "      <td>534486.0</td>\n",
       "      <td>15.461</td>\n",
       "      <td>7.811</td>\n",
       "    </tr>\n",
       "    <tr>\n",
       "      <th>4</th>\n",
       "      <td>tm120801</td>\n",
       "      <td>The Dirty Dozen</td>\n",
       "      <td>MOVIE</td>\n",
       "      <td>12 American military prisoners in World War II...</td>\n",
       "      <td>1967</td>\n",
       "      <td>NaN</td>\n",
       "      <td>150</td>\n",
       "      <td>['war', 'action']</td>\n",
       "      <td>['GB', 'US']</td>\n",
       "      <td>NaN</td>\n",
       "      <td>tt0061578</td>\n",
       "      <td>7.7</td>\n",
       "      <td>72662.0</td>\n",
       "      <td>20.398</td>\n",
       "      <td>7.600</td>\n",
       "    </tr>\n",
       "  </tbody>\n",
       "</table>\n",
       "</div>"
      ],
      "text/plain": [
       "         id                                title   type  \\\n",
       "0  ts300399  Five Came Back: The Reference Films   SHOW   \n",
       "1   tm84618                          Taxi Driver  MOVIE   \n",
       "2  tm154986                          Deliverance  MOVIE   \n",
       "3  tm127384      Monty Python and the Holy Grail  MOVIE   \n",
       "4  tm120801                      The Dirty Dozen  MOVIE   \n",
       "\n",
       "                                         description  release_year  \\\n",
       "0  This collection includes 12 World War II-era p...          1945   \n",
       "1  A mentally unstable Vietnam War veteran works ...          1976   \n",
       "2  Intent on seeing the Cahulawassee River before...          1972   \n",
       "3  King Arthur, accompanied by his squire, recrui...          1975   \n",
       "4  12 American military prisoners in World War II...          1967   \n",
       "\n",
       "  age_certification  runtime                                       genres  \\\n",
       "0             TV-MA       51                            ['documentation']   \n",
       "1                 R      114                           ['drama', 'crime']   \n",
       "2                 R      109  ['drama', 'action', 'thriller', 'european']   \n",
       "3                PG       91              ['fantasy', 'action', 'comedy']   \n",
       "4               NaN      150                            ['war', 'action']   \n",
       "\n",
       "  production_countries  seasons    imdb_id  imdb_score  imdb_votes  \\\n",
       "0               ['US']      1.0        NaN         NaN         NaN   \n",
       "1               ['US']      NaN  tt0075314         8.2    808582.0   \n",
       "2               ['US']      NaN  tt0068473         7.7    107673.0   \n",
       "3               ['GB']      NaN  tt0071853         8.2    534486.0   \n",
       "4         ['GB', 'US']      NaN  tt0061578         7.7     72662.0   \n",
       "\n",
       "   tmdb_popularity  tmdb_score  \n",
       "0            0.600         NaN  \n",
       "1           40.965       8.179  \n",
       "2           10.010       7.300  \n",
       "3           15.461       7.811  \n",
       "4           20.398       7.600  "
      ]
     },
     "execution_count": 11,
     "metadata": {},
     "output_type": "execute_result"
    }
   ],
   "source": [
    "df = pd.read_csv('D:\\\\Online courses\\\\Cousera\\\\project\\\\dataset\\\\Netflix_title.csv')\n",
    "\n",
    "df.head()"
   ]
  },
  {
   "cell_type": "code",
   "execution_count": null,
   "id": "b290f9d5-e0ea-4ff1-b4e8-e756196bb402",
   "metadata": {},
   "outputs": [],
   "source": []
  },
  {
   "cell_type": "code",
   "execution_count": 12,
   "id": "221fd076-dd35-453e-8916-15f09116cb0f",
   "metadata": {},
   "outputs": [
    {
     "data": {
      "text/plain": [
       "(5850, 15)"
      ]
     },
     "execution_count": 12,
     "metadata": {},
     "output_type": "execute_result"
    }
   ],
   "source": [
    "df.shape"
   ]
  },
  {
   "cell_type": "code",
   "execution_count": null,
   "id": "eeab01f3-6ebf-47f5-a62d-ab691c3436ff",
   "metadata": {},
   "outputs": [],
   "source": []
  },
  {
   "cell_type": "code",
   "execution_count": 13,
   "id": "16e7fa61-7340-4511-a158-4a98953a864e",
   "metadata": {},
   "outputs": [
    {
     "name": "stdout",
     "output_type": "stream",
     "text": [
      "<class 'pandas.core.frame.DataFrame'>\n",
      "RangeIndex: 5850 entries, 0 to 5849\n",
      "Data columns (total 15 columns):\n",
      " #   Column                Non-Null Count  Dtype  \n",
      "---  ------                --------------  -----  \n",
      " 0   id                    5850 non-null   object \n",
      " 1   title                 5849 non-null   object \n",
      " 2   type                  5850 non-null   object \n",
      " 3   description           5832 non-null   object \n",
      " 4   release_year          5850 non-null   int64  \n",
      " 5   age_certification     3231 non-null   object \n",
      " 6   runtime               5850 non-null   int64  \n",
      " 7   genres                5850 non-null   object \n",
      " 8   production_countries  5850 non-null   object \n",
      " 9   seasons               2106 non-null   float64\n",
      " 10  imdb_id               5447 non-null   object \n",
      " 11  imdb_score            5368 non-null   float64\n",
      " 12  imdb_votes            5352 non-null   float64\n",
      " 13  tmdb_popularity       5759 non-null   float64\n",
      " 14  tmdb_score            5539 non-null   float64\n",
      "dtypes: float64(5), int64(2), object(8)\n",
      "memory usage: 685.7+ KB\n"
     ]
    }
   ],
   "source": [
    "df.info()"
   ]
  },
  {
   "cell_type": "code",
   "execution_count": null,
   "id": "325e531b-972e-425e-b6a6-88e821ea5086",
   "metadata": {},
   "outputs": [],
   "source": [
    "#---------------------------------DATASET CLEANING ------------------------------"
   ]
  },
  {
   "cell_type": "code",
   "execution_count": null,
   "id": "c907e387-8590-41b6-8ff0-d4cf2ec69b0a",
   "metadata": {},
   "outputs": [],
   "source": [
    "#checking for null values"
   ]
  },
  {
   "cell_type": "code",
   "execution_count": 14,
   "id": "f6594718-6c81-4114-8257-2d8fc6355f2a",
   "metadata": {},
   "outputs": [
    {
     "name": "stdout",
     "output_type": "stream",
     "text": [
      "id                         0\n",
      "title                      1\n",
      "type                       0\n",
      "description               18\n",
      "release_year               0\n",
      "age_certification       2619\n",
      "runtime                    0\n",
      "genres                     0\n",
      "production_countries       0\n",
      "seasons                 3744\n",
      "imdb_id                  403\n",
      "imdb_score               482\n",
      "imdb_votes               498\n",
      "tmdb_popularity           91\n",
      "tmdb_score               311\n",
      "dtype: int64\n"
     ]
    }
   ],
   "source": [
    "print(df.isnull().sum())"
   ]
  },
  {
   "cell_type": "code",
   "execution_count": null,
   "id": "3440957a-5e2c-4075-9753-513463d344f0",
   "metadata": {},
   "outputs": [],
   "source": [
    "#checking for duplicate  rows"
   ]
  },
  {
   "cell_type": "code",
   "execution_count": 15,
   "id": "1c123c4e-a266-43ab-855c-5b223afa639a",
   "metadata": {},
   "outputs": [
    {
     "name": "stdout",
     "output_type": "stream",
     "text": [
      "0\n"
     ]
    }
   ],
   "source": [
    "print(df.duplicated().sum())"
   ]
  },
  {
   "cell_type": "code",
   "execution_count": null,
   "id": "3516ff23-23d6-4cde-8bfb-3c8f6228a5d4",
   "metadata": {},
   "outputs": [],
   "source": [
    "#removing null values"
   ]
  },
  {
   "cell_type": "code",
   "execution_count": 16,
   "id": "70e37e6c-28b9-4761-86c5-604911a4cc67",
   "metadata": {},
   "outputs": [
    {
     "name": "stdout",
     "output_type": "stream",
     "text": [
      "id                        0\n",
      "title                     0\n",
      "type                      0\n",
      "description               0\n",
      "release_year              0\n",
      "age_certification         0\n",
      "runtime                   0\n",
      "genres                    0\n",
      "production_countries      0\n",
      "seasons                   0\n",
      "imdb_id                 403\n",
      "imdb_score                0\n",
      "imdb_votes              498\n",
      "tmdb_popularity          91\n",
      "tmdb_score              311\n",
      "dtype: int64\n"
     ]
    }
   ],
   "source": [
    "df['title']=df['title'].fillna('NO title')\n",
    "df['description']=df['description'].fillna('').str.strip()\n",
    "df['description']=df['description'].replace('','NO description')\n",
    "df['age_certification']=df['age_certification'].fillna('TV-MA')\n",
    "df['seasons'] = df['seasons'].fillna(1)\n",
    "df['imdb_score'] = df['imdb_score'].fillna(df['imdb_score'].mean())\n",
    "\n",
    "print(df.isna().sum())"
   ]
  },
  {
   "cell_type": "code",
   "execution_count": 17,
   "id": "fdabae49-650d-4e74-bcbd-ae9a8ada0183",
   "metadata": {},
   "outputs": [
    {
     "name": "stdout",
     "output_type": "stream",
     "text": [
      "id                        0\n",
      "title                     0\n",
      "type                      0\n",
      "description               0\n",
      "release_year              0\n",
      "age_certification         0\n",
      "runtime                   0\n",
      "genres                    0\n",
      "production_countries      0\n",
      "seasons                   0\n",
      "imdb_id                   0\n",
      "imdb_score                0\n",
      "imdb_votes              498\n",
      "tmdb_popularity          91\n",
      "tmdb_score              311\n",
      "dtype: int64\n"
     ]
    }
   ],
   "source": [
    "new_imdb_id=[f'tt_custom_{i:04d}' for i in range(1, df['imdb_id'].isna().sum() + 1)]\n",
    "df.loc[df['imdb_id'].isna(), 'imdb_id'] = new_imdb_id\n",
    "\n",
    "print(df.isna().sum())"
   ]
  },
  {
   "cell_type": "code",
   "execution_count": 18,
   "id": "6eb33099-6c20-415b-88c9-aaab28e65a58",
   "metadata": {},
   "outputs": [
    {
     "name": "stdout",
     "output_type": "stream",
     "text": [
      "id                      0\n",
      "title                   0\n",
      "type                    0\n",
      "description             0\n",
      "release_year            0\n",
      "age_certification       0\n",
      "runtime                 0\n",
      "genres                  0\n",
      "production_countries    0\n",
      "seasons                 0\n",
      "imdb_id                 0\n",
      "imdb_score              0\n",
      "imdb_votes              0\n",
      "tmdb_popularity         0\n",
      "tmdb_score              0\n",
      "dtype: int64\n"
     ]
    }
   ],
   "source": [
    "df['imdb_votes'] = df['imdb_score'].fillna(df['imdb_score'].mean())\n",
    "df['tmdb_popularity'] = df['imdb_score'].fillna(df['imdb_score'].mean())\n",
    "df['tmdb_score'] = df['imdb_score'].fillna(df['imdb_score'].mean())\n",
    "\n",
    "print(df.isna().sum())"
   ]
  },
  {
   "cell_type": "code",
   "execution_count": 19,
   "id": "f0da1258-719a-40db-850c-c624cfebe87e",
   "metadata": {},
   "outputs": [],
   "source": [
    "import sqlite3"
   ]
  },
  {
   "cell_type": "code",
   "execution_count": 20,
   "id": "7d1091c4-cb8a-4261-97a2-ada50799da9f",
   "metadata": {},
   "outputs": [],
   "source": [
    "conn = sqlite3.connect('Netflix_analysis.db')\n",
    "cur=conn.cursor()"
   ]
  },
  {
   "cell_type": "code",
   "execution_count": 21,
   "id": "d8986ec7-6b0b-46a8-b715-1ed49fae45e5",
   "metadata": {},
   "outputs": [],
   "source": [
    "%load_ext sql\n",
    "%sql sqlite:///Netflix_analysis.db"
   ]
  },
  {
   "cell_type": "code",
   "execution_count": null,
   "id": "8a168d59-1977-48af-95ad-cbafc60d91d6",
   "metadata": {},
   "outputs": [],
   "source": [
    "#loading the file to database for opereations"
   ]
  },
  {
   "cell_type": "code",
   "execution_count": 85,
   "id": "4bf7dc25-166d-4ca7-9608-3c745fd0f8bc",
   "metadata": {},
   "outputs": [
    {
     "data": {
      "text/plain": [
       "5850"
      ]
     },
     "execution_count": 85,
     "metadata": {},
     "output_type": "execute_result"
    }
   ],
   "source": [
    "df.to_sql('Netflix_data', conn, if_exists='replace', index=False)"
   ]
  },
  {
   "cell_type": "code",
   "execution_count": null,
   "id": "09603941-ad87-42a6-a80c-918d5a852c17",
   "metadata": {},
   "outputs": [],
   "source": [
    "#What is the total numbers of movies and shows?"
   ]
  },
  {
   "cell_type": "code",
   "execution_count": 72,
   "id": "6c4424b5-adea-4ee6-88dc-a82fdd49ec77",
   "metadata": {},
   "outputs": [
    {
     "data": {
      "text/html": [
       "<div>\n",
       "<style scoped>\n",
       "    .dataframe tbody tr th:only-of-type {\n",
       "        vertical-align: middle;\n",
       "    }\n",
       "\n",
       "    .dataframe tbody tr th {\n",
       "        vertical-align: top;\n",
       "    }\n",
       "\n",
       "    .dataframe thead th {\n",
       "        text-align: right;\n",
       "    }\n",
       "</style>\n",
       "<table border=\"1\" class=\"dataframe\">\n",
       "  <thead>\n",
       "    <tr style=\"text-align: right;\">\n",
       "      <th></th>\n",
       "      <th>Content_type</th>\n",
       "      <th>Type_count</th>\n",
       "    </tr>\n",
       "  </thead>\n",
       "  <tbody>\n",
       "    <tr>\n",
       "      <th>0</th>\n",
       "      <td>SHOW</td>\n",
       "      <td>2106</td>\n",
       "    </tr>\n",
       "    <tr>\n",
       "      <th>1</th>\n",
       "      <td>MOVIE</td>\n",
       "      <td>3744</td>\n",
       "    </tr>\n",
       "  </tbody>\n",
       "</table>\n",
       "</div>"
      ],
      "text/plain": [
       "  Content_type  Type_count\n",
       "0         SHOW        2106\n",
       "1        MOVIE        3744"
      ]
     },
     "execution_count": 72,
     "metadata": {},
     "output_type": "execute_result"
    }
   ],
   "source": [
    "query=\"\"\"\n",
    "SELECT type AS Content_type, \n",
    "COUNT(*) AS Type_count\n",
    "FROM Netflix_data \n",
    "GROUP BY type\n",
    "ORDER BY type DESC\n",
    "LIMIT 3;\n",
    "\"\"\"\n",
    "Movie_Show=pd.read_sql(query,conn)\n",
    "Movie_Show"
   ]
  },
  {
   "cell_type": "code",
   "execution_count": 86,
   "id": "330299d3-9a95-45a6-902e-4682b6df2f86",
   "metadata": {},
   "outputs": [
    {
     "data": {
      "image/png": "[encoded data removed]",
      "text/plain": [
       "<Figure size 800x400 with 1 Axes>"
      ]
     },
     "metadata": {},
     "output_type": "display_data"
    }
   ],
   "source": [
    "plt.figure(figsize=(8, 4))\n",
    "plt.pie(Movie_Show['Type_count'],labels=Movie_Show['Content_type'],autopct='%1.1f%%', startangle=90)\n",
    "plt.title('Content Type')  \n",
    "plt.show()"
   ]
  },
  {
   "cell_type": "code",
   "execution_count": null,
   "id": "36b9780b-9c92-43d7-849d-c365dbd4f6c3",
   "metadata": {},
   "outputs": [],
   "source": [
    "#top 10 show/movie and bottom 10 show/movie"
   ]
  },
  {
   "cell_type": "code",
   "execution_count": 23,
   "id": "6d9b27df-2e1e-403e-8141-be7c921f15be",
   "metadata": {},
   "outputs": [
    {
     "data": {
      "text/html": [
       "<div>\n",
       "<style scoped>\n",
       "    .dataframe tbody tr th:only-of-type {\n",
       "        vertical-align: middle;\n",
       "    }\n",
       "\n",
       "    .dataframe tbody tr th {\n",
       "        vertical-align: top;\n",
       "    }\n",
       "\n",
       "    .dataframe thead th {\n",
       "        text-align: right;\n",
       "    }\n",
       "</style>\n",
       "<table border=\"1\" class=\"dataframe\">\n",
       "  <thead>\n",
       "    <tr style=\"text-align: right;\">\n",
       "      <th></th>\n",
       "      <th>title</th>\n",
       "      <th>type</th>\n",
       "      <th>imdb_score</th>\n",
       "    </tr>\n",
       "  </thead>\n",
       "  <tbody>\n",
       "    <tr>\n",
       "      <th>0</th>\n",
       "      <td>Chhota Bheem &amp; Krishna vs Zimbara</td>\n",
       "      <td>MOVIE</td>\n",
       "      <td>9.1</td>\n",
       "    </tr>\n",
       "    <tr>\n",
       "      <th>1</th>\n",
       "      <td>Major</td>\n",
       "      <td>MOVIE</td>\n",
       "      <td>9.1</td>\n",
       "    </tr>\n",
       "    <tr>\n",
       "      <th>2</th>\n",
       "      <td>C/o Kancharapalem</td>\n",
       "      <td>MOVIE</td>\n",
       "      <td>8.9</td>\n",
       "    </tr>\n",
       "    <tr>\n",
       "      <th>3</th>\n",
       "      <td>David Attenborough: A Life on Our Planet</td>\n",
       "      <td>MOVIE</td>\n",
       "      <td>8.9</td>\n",
       "    </tr>\n",
       "    <tr>\n",
       "      <th>4</th>\n",
       "      <td>Forrest Gump</td>\n",
       "      <td>MOVIE</td>\n",
       "      <td>8.8</td>\n",
       "    </tr>\n",
       "    <tr>\n",
       "      <th>5</th>\n",
       "      <td>Inception</td>\n",
       "      <td>MOVIE</td>\n",
       "      <td>8.8</td>\n",
       "    </tr>\n",
       "    <tr>\n",
       "      <th>6</th>\n",
       "      <td>GoodFellas</td>\n",
       "      <td>MOVIE</td>\n",
       "      <td>8.7</td>\n",
       "    </tr>\n",
       "    <tr>\n",
       "      <th>7</th>\n",
       "      <td>Anbe Sivam</td>\n",
       "      <td>MOVIE</td>\n",
       "      <td>8.7</td>\n",
       "    </tr>\n",
       "    <tr>\n",
       "      <th>8</th>\n",
       "      <td>A Lion in the House</td>\n",
       "      <td>MOVIE</td>\n",
       "      <td>8.7</td>\n",
       "    </tr>\n",
       "    <tr>\n",
       "      <th>9</th>\n",
       "      <td>Chhota Bheem &amp; Krishna in Mayanagari</td>\n",
       "      <td>MOVIE</td>\n",
       "      <td>8.7</td>\n",
       "    </tr>\n",
       "  </tbody>\n",
       "</table>\n",
       "</div>"
      ],
      "text/plain": [
       "                                      title   type  imdb_score\n",
       "0         Chhota Bheem & Krishna vs Zimbara  MOVIE         9.1\n",
       "1                                     Major  MOVIE         9.1\n",
       "2                         C/o Kancharapalem  MOVIE         8.9\n",
       "3  David Attenborough: A Life on Our Planet  MOVIE         8.9\n",
       "4                              Forrest Gump  MOVIE         8.8\n",
       "5                                 Inception  MOVIE         8.8\n",
       "6                                GoodFellas  MOVIE         8.7\n",
       "7                                Anbe Sivam  MOVIE         8.7\n",
       "8                       A Lion in the House  MOVIE         8.7\n",
       "9      Chhota Bheem & Krishna in Mayanagari  MOVIE         8.7"
      ]
     },
     "execution_count": 23,
     "metadata": {},
     "output_type": "execute_result"
    }
   ],
   "source": [
    "query= \"\"\"\n",
    "SELECT title, \n",
    "type, \n",
    "imdb_score\n",
    "FROM Netflix_data\n",
    "WHERE type = 'MOVIE'\n",
    "ORDER BY imdb_score DESC\n",
    "LIMIT 10\n",
    "\"\"\"\n",
    "Top_10_Movies_with_Highest_Combined_IMDB= pd.read_sql(query, conn)\n",
    "Top_10_Movies_with_Highest_Combined_IMDB"
   ]
  },
  {
   "cell_type": "code",
   "execution_count": 24,
   "id": "bdf2f5db-b3b4-41b0-8e44-0d1d8dc8103d",
   "metadata": {},
   "outputs": [
    {
     "data": {
      "text/html": [
       "<div>\n",
       "<style scoped>\n",
       "    .dataframe tbody tr th:only-of-type {\n",
       "        vertical-align: middle;\n",
       "    }\n",
       "\n",
       "    .dataframe tbody tr th {\n",
       "        vertical-align: top;\n",
       "    }\n",
       "\n",
       "    .dataframe thead th {\n",
       "        text-align: right;\n",
       "    }\n",
       "</style>\n",
       "<table border=\"1\" class=\"dataframe\">\n",
       "  <thead>\n",
       "    <tr style=\"text-align: right;\">\n",
       "      <th></th>\n",
       "      <th>title</th>\n",
       "      <th>type</th>\n",
       "      <th>imdb_score</th>\n",
       "    </tr>\n",
       "  </thead>\n",
       "  <tbody>\n",
       "    <tr>\n",
       "      <th>0</th>\n",
       "      <td>Aerials</td>\n",
       "      <td>MOVIE</td>\n",
       "      <td>1.5</td>\n",
       "    </tr>\n",
       "    <tr>\n",
       "      <th>1</th>\n",
       "      <td>Me Against You: Mr. S's Vendetta</td>\n",
       "      <td>MOVIE</td>\n",
       "      <td>1.6</td>\n",
       "    </tr>\n",
       "    <tr>\n",
       "      <th>2</th>\n",
       "      <td>Himmatwala</td>\n",
       "      <td>MOVIE</td>\n",
       "      <td>1.7</td>\n",
       "    </tr>\n",
       "    <tr>\n",
       "      <th>3</th>\n",
       "      <td>Kyaa Kool Hain Hum 3</td>\n",
       "      <td>MOVIE</td>\n",
       "      <td>1.9</td>\n",
       "    </tr>\n",
       "    <tr>\n",
       "      <th>4</th>\n",
       "      <td>FRED 3: Camp Fred</td>\n",
       "      <td>MOVIE</td>\n",
       "      <td>2.0</td>\n",
       "    </tr>\n",
       "    <tr>\n",
       "      <th>5</th>\n",
       "      <td>Hajwala: The Missing Engine</td>\n",
       "      <td>MOVIE</td>\n",
       "      <td>2.0</td>\n",
       "    </tr>\n",
       "    <tr>\n",
       "      <th>6</th>\n",
       "      <td>Dostana</td>\n",
       "      <td>MOVIE</td>\n",
       "      <td>2.1</td>\n",
       "    </tr>\n",
       "    <tr>\n",
       "      <th>7</th>\n",
       "      <td>B. A. Pass 2</td>\n",
       "      <td>MOVIE</td>\n",
       "      <td>2.2</td>\n",
       "    </tr>\n",
       "    <tr>\n",
       "      <th>8</th>\n",
       "      <td>Time to Dance</td>\n",
       "      <td>MOVIE</td>\n",
       "      <td>2.2</td>\n",
       "    </tr>\n",
       "    <tr>\n",
       "      <th>9</th>\n",
       "      <td>Nothing to Lose</td>\n",
       "      <td>MOVIE</td>\n",
       "      <td>2.3</td>\n",
       "    </tr>\n",
       "  </tbody>\n",
       "</table>\n",
       "</div>"
      ],
      "text/plain": [
       "                              title   type  imdb_score\n",
       "0                           Aerials  MOVIE         1.5\n",
       "1  Me Against You: Mr. S's Vendetta  MOVIE         1.6\n",
       "2                        Himmatwala  MOVIE         1.7\n",
       "3              Kyaa Kool Hain Hum 3  MOVIE         1.9\n",
       "4                 FRED 3: Camp Fred  MOVIE         2.0\n",
       "5       Hajwala: The Missing Engine  MOVIE         2.0\n",
       "6                           Dostana  MOVIE         2.1\n",
       "7                      B. A. Pass 2  MOVIE         2.2\n",
       "8                     Time to Dance  MOVIE         2.2\n",
       "9                   Nothing to Lose  MOVIE         2.3"
      ]
     },
     "execution_count": 24,
     "metadata": {},
     "output_type": "execute_result"
    }
   ],
   "source": [
    "query = \"\"\"\n",
    "SELECT title, \n",
    "type, \n",
    "imdb_score\n",
    "FROM Netflix_data\n",
    "WHERE type = 'MOVIE'\n",
    "ORDER BY imdb_score ASC\n",
    "LIMIT 10\n",
    "\"\"\"\n",
    "Bottom_10_Movies_by_IMDB_Score = pd.read_sql(query, conn)\n",
    "Bottom_10_Movies_by_IMDB_Score"
   ]
  },
  {
   "cell_type": "code",
   "execution_count": 25,
   "id": "b2b3b876-7e15-4111-bc35-ba6a1ff03ad5",
   "metadata": {},
   "outputs": [
    {
     "data": {
      "text/html": [
       "<div>\n",
       "<style scoped>\n",
       "    .dataframe tbody tr th:only-of-type {\n",
       "        vertical-align: middle;\n",
       "    }\n",
       "\n",
       "    .dataframe tbody tr th {\n",
       "        vertical-align: top;\n",
       "    }\n",
       "\n",
       "    .dataframe thead th {\n",
       "        text-align: right;\n",
       "    }\n",
       "</style>\n",
       "<table border=\"1\" class=\"dataframe\">\n",
       "  <thead>\n",
       "    <tr style=\"text-align: right;\">\n",
       "      <th></th>\n",
       "      <th>title</th>\n",
       "      <th>type</th>\n",
       "      <th>imdb_score</th>\n",
       "    </tr>\n",
       "  </thead>\n",
       "  <tbody>\n",
       "    <tr>\n",
       "      <th>0</th>\n",
       "      <td>#ABtalks</td>\n",
       "      <td>SHOW</td>\n",
       "      <td>9.6</td>\n",
       "    </tr>\n",
       "    <tr>\n",
       "      <th>1</th>\n",
       "      <td>Breaking Bad</td>\n",
       "      <td>SHOW</td>\n",
       "      <td>9.5</td>\n",
       "    </tr>\n",
       "    <tr>\n",
       "      <th>2</th>\n",
       "      <td>Khawatir</td>\n",
       "      <td>SHOW</td>\n",
       "      <td>9.5</td>\n",
       "    </tr>\n",
       "    <tr>\n",
       "      <th>3</th>\n",
       "      <td>Avatar: The Last Airbender</td>\n",
       "      <td>SHOW</td>\n",
       "      <td>9.3</td>\n",
       "    </tr>\n",
       "    <tr>\n",
       "      <th>4</th>\n",
       "      <td>Our Planet</td>\n",
       "      <td>SHOW</td>\n",
       "      <td>9.3</td>\n",
       "    </tr>\n",
       "    <tr>\n",
       "      <th>5</th>\n",
       "      <td>Reply 1988</td>\n",
       "      <td>SHOW</td>\n",
       "      <td>9.2</td>\n",
       "    </tr>\n",
       "    <tr>\n",
       "      <th>6</th>\n",
       "      <td>My Mister</td>\n",
       "      <td>SHOW</td>\n",
       "      <td>9.1</td>\n",
       "    </tr>\n",
       "    <tr>\n",
       "      <th>7</th>\n",
       "      <td>The Last Dance</td>\n",
       "      <td>SHOW</td>\n",
       "      <td>9.1</td>\n",
       "    </tr>\n",
       "    <tr>\n",
       "      <th>8</th>\n",
       "      <td>Kota Factory</td>\n",
       "      <td>SHOW</td>\n",
       "      <td>9.1</td>\n",
       "    </tr>\n",
       "    <tr>\n",
       "      <th>9</th>\n",
       "      <td>Okupas</td>\n",
       "      <td>SHOW</td>\n",
       "      <td>9.0</td>\n",
       "    </tr>\n",
       "  </tbody>\n",
       "</table>\n",
       "</div>"
      ],
      "text/plain": [
       "                        title  type  imdb_score\n",
       "0                    #ABtalks  SHOW         9.6\n",
       "1                Breaking Bad  SHOW         9.5\n",
       "2                    Khawatir  SHOW         9.5\n",
       "3  Avatar: The Last Airbender  SHOW         9.3\n",
       "4                  Our Planet  SHOW         9.3\n",
       "5                  Reply 1988  SHOW         9.2\n",
       "6                   My Mister  SHOW         9.1\n",
       "7              The Last Dance  SHOW         9.1\n",
       "8                Kota Factory  SHOW         9.1\n",
       "9                      Okupas  SHOW         9.0"
      ]
     },
     "execution_count": 25,
     "metadata": {},
     "output_type": "execute_result"
    }
   ],
   "source": [
    "query= \"\"\"\n",
    "SELECT title, \n",
    "type, \n",
    "imdb_score\n",
    "FROM Netflix_data\n",
    "WHERE type = 'SHOW'\n",
    "ORDER BY imdb_score DESC\n",
    "LIMIT 10\n",
    "\"\"\"\n",
    "Top_10_Show_with_Highest_Combined_IMDB= pd.read_sql(query, conn)\n",
    "Top_10_Show_with_Highest_Combined_IMDB"
   ]
  },
  {
   "cell_type": "code",
   "execution_count": 26,
   "id": "c8d03a04-9722-48a9-aa0c-f739589b9191",
   "metadata": {
    "scrolled": true
   },
   "outputs": [
    {
     "data": {
      "text/html": [
       "<div>\n",
       "<style scoped>\n",
       "    .dataframe tbody tr th:only-of-type {\n",
       "        vertical-align: middle;\n",
       "    }\n",
       "\n",
       "    .dataframe tbody tr th {\n",
       "        vertical-align: top;\n",
       "    }\n",
       "\n",
       "    .dataframe thead th {\n",
       "        text-align: right;\n",
       "    }\n",
       "</style>\n",
       "<table border=\"1\" class=\"dataframe\">\n",
       "  <thead>\n",
       "    <tr style=\"text-align: right;\">\n",
       "      <th></th>\n",
       "      <th>title</th>\n",
       "      <th>type</th>\n",
       "      <th>imdb_score</th>\n",
       "    </tr>\n",
       "  </thead>\n",
       "  <tbody>\n",
       "    <tr>\n",
       "      <th>0</th>\n",
       "      <td>Thomas &amp; Friends: All Engines Go!</td>\n",
       "      <td>SHOW</td>\n",
       "      <td>2.0</td>\n",
       "    </tr>\n",
       "    <tr>\n",
       "      <th>1</th>\n",
       "      <td>He's Expecting</td>\n",
       "      <td>SHOW</td>\n",
       "      <td>2.0</td>\n",
       "    </tr>\n",
       "    <tr>\n",
       "      <th>2</th>\n",
       "      <td>Hype House</td>\n",
       "      <td>SHOW</td>\n",
       "      <td>2.1</td>\n",
       "    </tr>\n",
       "    <tr>\n",
       "      <th>3</th>\n",
       "      <td>A House of Blocks</td>\n",
       "      <td>SHOW</td>\n",
       "      <td>2.3</td>\n",
       "    </tr>\n",
       "    <tr>\n",
       "      <th>4</th>\n",
       "      <td>Until Dawn</td>\n",
       "      <td>SHOW</td>\n",
       "      <td>2.4</td>\n",
       "    </tr>\n",
       "    <tr>\n",
       "      <th>5</th>\n",
       "      <td>The Goop Lab</td>\n",
       "      <td>SHOW</td>\n",
       "      <td>2.5</td>\n",
       "    </tr>\n",
       "    <tr>\n",
       "      <th>6</th>\n",
       "      <td>Byron Baes</td>\n",
       "      <td>SHOW</td>\n",
       "      <td>2.6</td>\n",
       "    </tr>\n",
       "    <tr>\n",
       "      <th>7</th>\n",
       "      <td>First Class</td>\n",
       "      <td>SHOW</td>\n",
       "      <td>2.8</td>\n",
       "    </tr>\n",
       "    <tr>\n",
       "      <th>8</th>\n",
       "      <td>Bonus Family</td>\n",
       "      <td>SHOW</td>\n",
       "      <td>2.9</td>\n",
       "    </tr>\n",
       "    <tr>\n",
       "      <th>9</th>\n",
       "      <td>Richie Rich</td>\n",
       "      <td>SHOW</td>\n",
       "      <td>3.0</td>\n",
       "    </tr>\n",
       "  </tbody>\n",
       "</table>\n",
       "</div>"
      ],
      "text/plain": [
       "                               title  type  imdb_score\n",
       "0  Thomas & Friends: All Engines Go!  SHOW         2.0\n",
       "1                     He's Expecting  SHOW         2.0\n",
       "2                         Hype House  SHOW         2.1\n",
       "3                  A House of Blocks  SHOW         2.3\n",
       "4                         Until Dawn  SHOW         2.4\n",
       "5                       The Goop Lab  SHOW         2.5\n",
       "6                         Byron Baes  SHOW         2.6\n",
       "7                        First Class  SHOW         2.8\n",
       "8                       Bonus Family  SHOW         2.9\n",
       "9                        Richie Rich  SHOW         3.0"
      ]
     },
     "execution_count": 26,
     "metadata": {},
     "output_type": "execute_result"
    }
   ],
   "source": [
    "query= \"\"\"\n",
    "SELECT title, \n",
    "type, \n",
    "imdb_score\n",
    "FROM Netflix_data\n",
    "WHERE type = 'SHOW'\n",
    "ORDER BY imdb_score ASC\n",
    "LIMIT 10\n",
    "\"\"\"\n",
    "Bottom_10_Show_with_Highest_Combined_IMDB= pd.read_sql(query, conn)\n",
    "Bottom_10_Show_with_Highest_Combined_IMDB"
   ]
  },
  {
   "cell_type": "code",
   "execution_count": null,
   "id": "12378a4e-5222-4ad8-88c3-41e90c5d1984",
   "metadata": {},
   "outputs": [],
   "source": [
    "#Which year had the highest number of new releases on Netflix and its trend?"
   ]
  },
  {
   "cell_type": "code",
   "execution_count": 27,
   "id": "5938b762-021e-4d85-8378-bdf9b5a2b5b9",
   "metadata": {
    "scrolled": true
   },
   "outputs": [
    {
     "data": {
      "text/html": [
       "<div>\n",
       "<style scoped>\n",
       "    .dataframe tbody tr th:only-of-type {\n",
       "        vertical-align: middle;\n",
       "    }\n",
       "\n",
       "    .dataframe tbody tr th {\n",
       "        vertical-align: top;\n",
       "    }\n",
       "\n",
       "    .dataframe thead th {\n",
       "        text-align: right;\n",
       "    }\n",
       "</style>\n",
       "<table border=\"1\" class=\"dataframe\">\n",
       "  <thead>\n",
       "    <tr style=\"text-align: right;\">\n",
       "      <th></th>\n",
       "      <th>decade</th>\n",
       "      <th>movies_shows_count</th>\n",
       "    </tr>\n",
       "  </thead>\n",
       "  <tbody>\n",
       "    <tr>\n",
       "      <th>0</th>\n",
       "      <td>1940s</td>\n",
       "      <td>1</td>\n",
       "    </tr>\n",
       "    <tr>\n",
       "      <th>1</th>\n",
       "      <td>1950s</td>\n",
       "      <td>5</td>\n",
       "    </tr>\n",
       "    <tr>\n",
       "      <th>2</th>\n",
       "      <td>1960s</td>\n",
       "      <td>8</td>\n",
       "    </tr>\n",
       "    <tr>\n",
       "      <th>3</th>\n",
       "      <td>1970s</td>\n",
       "      <td>18</td>\n",
       "    </tr>\n",
       "    <tr>\n",
       "      <th>4</th>\n",
       "      <td>1980s</td>\n",
       "      <td>52</td>\n",
       "    </tr>\n",
       "    <tr>\n",
       "      <th>5</th>\n",
       "      <td>1990s</td>\n",
       "      <td>121</td>\n",
       "    </tr>\n",
       "    <tr>\n",
       "      <th>6</th>\n",
       "      <td>2000s</td>\n",
       "      <td>369</td>\n",
       "    </tr>\n",
       "    <tr>\n",
       "      <th>7</th>\n",
       "      <td>2010s</td>\n",
       "      <td>3304</td>\n",
       "    </tr>\n",
       "    <tr>\n",
       "      <th>8</th>\n",
       "      <td>2020s</td>\n",
       "      <td>1972</td>\n",
       "    </tr>\n",
       "  </tbody>\n",
       "</table>\n",
       "</div>"
      ],
      "text/plain": [
       "  decade  movies_shows_count\n",
       "0  1940s                   1\n",
       "1  1950s                   5\n",
       "2  1960s                   8\n",
       "3  1970s                  18\n",
       "4  1980s                  52\n",
       "5  1990s                 121\n",
       "6  2000s                 369\n",
       "7  2010s                3304\n",
       "8  2020s                1972"
      ]
     },
     "execution_count": 27,
     "metadata": {},
     "output_type": "execute_result"
    }
   ],
   "source": [
    "query= \"\"\"\n",
    "SELECT CONCAT(FLOOR(release_year / 10) * 10, 's') AS decade,\n",
    "\tCOUNT(*) AS movies_shows_count\n",
    "FROM Netflix_data\n",
    "WHERE release_year >= 1940\n",
    "GROUP BY CONCAT(FLOOR(release_year / 10) * 10, 's')\n",
    "ORDER BY decade;\n",
    "\"\"\"\n",
    "Movies_and_Shows_count=pd.read_sql(query, conn)\n",
    "Movies_and_Shows_count"
   ]
  },
  {
   "cell_type": "code",
   "execution_count": 88,
   "id": "8503557f-e92e-4397-9da4-19a2316eb1d7",
   "metadata": {
    "scrolled": true
   },
   "outputs": [
    {
     "data": {
      "image/png": "[encoded data removed]",
      "text/plain": [
       "<Figure size 800x400 with 1 Axes>"
      ]
     },
     "metadata": {},
     "output_type": "display_data"
    }
   ],
   "source": [
    "plt.figure(figsize=(8, 4))\n",
    "plt.plot(Movies_and_Shows_count['decade'], Movies_and_Shows_count['movies_shows_count'], marker='o', linestyle='-', color='blue')\n",
    "plt.title('Movie and Shows New Release')  \n",
    "plt.xlabel(\"Decade\")  \n",
    "plt.ylabel(\"New Release\" ) \n",
    "plt.xticks(rotation=45, ha='right')  \n",
    "plt.grid(True)  \n",
    "plt.show()"
   ]
  },
  {
   "cell_type": "code",
   "execution_count": null,
   "id": "9a027eb4-e623-40bb-b0fe-55cabd282cf7",
   "metadata": {},
   "outputs": [],
   "source": [
    "#vote of age_certification"
   ]
  },
  {
   "cell_type": "code",
   "execution_count": 28,
   "id": "f14cde15-66c7-4ae5-8294-9937318365e1",
   "metadata": {},
   "outputs": [
    {
     "data": {
      "text/html": [
       "<div>\n",
       "<style scoped>\n",
       "    .dataframe tbody tr th:only-of-type {\n",
       "        vertical-align: middle;\n",
       "    }\n",
       "\n",
       "    .dataframe tbody tr th {\n",
       "        vertical-align: top;\n",
       "    }\n",
       "\n",
       "    .dataframe thead th {\n",
       "        text-align: right;\n",
       "    }\n",
       "</style>\n",
       "<table border=\"1\" class=\"dataframe\">\n",
       "  <thead>\n",
       "    <tr style=\"text-align: right;\">\n",
       "      <th></th>\n",
       "      <th>age_certification</th>\n",
       "      <th>avg_imdb_score</th>\n",
       "      <th>avg_tmdb_score</th>\n",
       "    </tr>\n",
       "  </thead>\n",
       "  <tbody>\n",
       "    <tr>\n",
       "      <th>0</th>\n",
       "      <td>TV-14</td>\n",
       "      <td>7.17</td>\n",
       "      <td>7.17</td>\n",
       "    </tr>\n",
       "    <tr>\n",
       "      <th>1</th>\n",
       "      <td>TV-PG</td>\n",
       "      <td>6.88</td>\n",
       "      <td>6.88</td>\n",
       "    </tr>\n",
       "    <tr>\n",
       "      <th>2</th>\n",
       "      <td>TV-Y7</td>\n",
       "      <td>6.81</td>\n",
       "      <td>6.81</td>\n",
       "    </tr>\n",
       "    <tr>\n",
       "      <th>3</th>\n",
       "      <td>TV-Y</td>\n",
       "      <td>6.54</td>\n",
       "      <td>6.54</td>\n",
       "    </tr>\n",
       "    <tr>\n",
       "      <th>4</th>\n",
       "      <td>TV-MA</td>\n",
       "      <td>6.46</td>\n",
       "      <td>6.46</td>\n",
       "    </tr>\n",
       "    <tr>\n",
       "      <th>5</th>\n",
       "      <td>PG-13</td>\n",
       "      <td>6.43</td>\n",
       "      <td>6.43</td>\n",
       "    </tr>\n",
       "    <tr>\n",
       "      <th>6</th>\n",
       "      <td>G</td>\n",
       "      <td>6.40</td>\n",
       "      <td>6.40</td>\n",
       "    </tr>\n",
       "    <tr>\n",
       "      <th>7</th>\n",
       "      <td>TV-G</td>\n",
       "      <td>6.34</td>\n",
       "      <td>6.34</td>\n",
       "    </tr>\n",
       "    <tr>\n",
       "      <th>8</th>\n",
       "      <td>R</td>\n",
       "      <td>6.30</td>\n",
       "      <td>6.30</td>\n",
       "    </tr>\n",
       "    <tr>\n",
       "      <th>9</th>\n",
       "      <td>PG</td>\n",
       "      <td>6.24</td>\n",
       "      <td>6.24</td>\n",
       "    </tr>\n",
       "    <tr>\n",
       "      <th>10</th>\n",
       "      <td>NC-17</td>\n",
       "      <td>6.17</td>\n",
       "      <td>6.17</td>\n",
       "    </tr>\n",
       "  </tbody>\n",
       "</table>\n",
       "</div>"
      ],
      "text/plain": [
       "   age_certification  avg_imdb_score  avg_tmdb_score\n",
       "0              TV-14            7.17            7.17\n",
       "1              TV-PG            6.88            6.88\n",
       "2              TV-Y7            6.81            6.81\n",
       "3               TV-Y            6.54            6.54\n",
       "4              TV-MA            6.46            6.46\n",
       "5              PG-13            6.43            6.43\n",
       "6                  G            6.40            6.40\n",
       "7               TV-G            6.34            6.34\n",
       "8                  R            6.30            6.30\n",
       "9                 PG            6.24            6.24\n",
       "10             NC-17            6.17            6.17"
      ]
     },
     "execution_count": 28,
     "metadata": {},
     "output_type": "execute_result"
    }
   ],
   "source": [
    "query= \"\"\"\n",
    "SELECT DISTINCT age_certification, \n",
    "ROUND(AVG(imdb_score),2) AS avg_imdb_score,\n",
    "ROUND(AVG(tmdb_score),2) AS avg_tmdb_score\n",
    "FROM Netflix_data\n",
    "GROUP BY age_certification\n",
    "ORDER BY avg_imdb_score DESC\n",
    "\"\"\"\n",
    "age_certifications_score=pd.read_sql(query,conn)\n",
    "age_certifications_score"
   ]
  },
  {
   "cell_type": "code",
   "execution_count": 29,
   "id": "73073ec4-1066-4d53-a0f6-b187e901b338",
   "metadata": {
    "scrolled": true
   },
   "outputs": [
    {
     "data": {
      "text/html": [
       "<div>\n",
       "<style scoped>\n",
       "    .dataframe tbody tr th:only-of-type {\n",
       "        vertical-align: middle;\n",
       "    }\n",
       "\n",
       "    .dataframe tbody tr th {\n",
       "        vertical-align: top;\n",
       "    }\n",
       "\n",
       "    .dataframe thead th {\n",
       "        text-align: right;\n",
       "    }\n",
       "</style>\n",
       "<table border=\"1\" class=\"dataframe\">\n",
       "  <thead>\n",
       "    <tr style=\"text-align: right;\">\n",
       "      <th></th>\n",
       "      <th>age_certification</th>\n",
       "      <th>certification_count</th>\n",
       "    </tr>\n",
       "  </thead>\n",
       "  <tbody>\n",
       "    <tr>\n",
       "      <th>0</th>\n",
       "      <td>TV-MA</td>\n",
       "      <td>2364</td>\n",
       "    </tr>\n",
       "    <tr>\n",
       "      <th>1</th>\n",
       "      <td>R</td>\n",
       "      <td>556</td>\n",
       "    </tr>\n",
       "    <tr>\n",
       "      <th>2</th>\n",
       "      <td>PG-13</td>\n",
       "      <td>451</td>\n",
       "    </tr>\n",
       "    <tr>\n",
       "      <th>3</th>\n",
       "      <td>PG</td>\n",
       "      <td>233</td>\n",
       "    </tr>\n",
       "    <tr>\n",
       "      <th>4</th>\n",
       "      <td>G</td>\n",
       "      <td>124</td>\n",
       "    </tr>\n",
       "  </tbody>\n",
       "</table>\n",
       "</div>"
      ],
      "text/plain": [
       "  age_certification  certification_count\n",
       "0             TV-MA                 2364\n",
       "1                 R                  556\n",
       "2             PG-13                  451\n",
       "3                PG                  233\n",
       "4                 G                  124"
      ]
     },
     "execution_count": 29,
     "metadata": {},
     "output_type": "execute_result"
    }
   ],
   "source": [
    "query= \"\"\"\n",
    "SELECT age_certification, \n",
    "COUNT(*) AS certification_count\n",
    "FROM Netflix_data\n",
    "WHERE type = 'MOVIE' \n",
    "AND age_certification != 'N/A'\n",
    "GROUP BY age_certification\n",
    "ORDER BY certification_count DESC\n",
    "LIMIT 5;\n",
    "\"\"\"\n",
    "age_certifications_count=pd.read_sql(query,conn)\n",
    "age_certifications_count"
   ]
  },
  {
   "cell_type": "code",
   "execution_count": 81,
   "id": "a686643a-f12b-4afe-9b55-d000696bb8c0",
   "metadata": {
    "scrolled": true
   },
   "outputs": [
    {
     "data": {
      "image/png": "[encoded data removed]",
      "text/plain": [
       "<Figure size 400x400 with 1 Axes>"
      ]
     },
     "metadata": {},
     "output_type": "display_data"
    }
   ],
   "source": [
    "plt.figure(figsize=(4, 4))\n",
    "plt.pie(age_certifications_count['certification_count'], labels=age_certifications_count['age_certification'],autopct='%1.1f%%', startangle=90)  \n",
    "plt.title('age certifications on Netflix')  \n",
    "plt.axis('equal')  \n",
    "plt.show()"
   ]
  },
  {
   "cell_type": "code",
   "execution_count": null,
   "id": "ff6e4c55-fa29-40a5-bb10-7bf0e92e5241",
   "metadata": {},
   "outputs": [],
   "source": [
    "#Top 10 genres"
   ]
  },
  {
   "cell_type": "code",
   "execution_count": 62,
   "id": "97d9fe3f-6e1a-48fd-8e80-27a787c828fc",
   "metadata": {},
   "outputs": [
    {
     "data": {
      "text/html": [
       "<div>\n",
       "<style scoped>\n",
       "    .dataframe tbody tr th:only-of-type {\n",
       "        vertical-align: middle;\n",
       "    }\n",
       "\n",
       "    .dataframe tbody tr th {\n",
       "        vertical-align: top;\n",
       "    }\n",
       "\n",
       "    .dataframe thead th {\n",
       "        text-align: right;\n",
       "    }\n",
       "</style>\n",
       "<table border=\"1\" class=\"dataframe\">\n",
       "  <thead>\n",
       "    <tr style=\"text-align: right;\">\n",
       "      <th></th>\n",
       "      <th>genres</th>\n",
       "      <th>title_count</th>\n",
       "    </tr>\n",
       "  </thead>\n",
       "  <tbody>\n",
       "    <tr>\n",
       "      <th>0</th>\n",
       "      <td>['comedy']</td>\n",
       "      <td>384</td>\n",
       "    </tr>\n",
       "    <tr>\n",
       "      <th>1</th>\n",
       "      <td>['documentation']</td>\n",
       "      <td>230</td>\n",
       "    </tr>\n",
       "    <tr>\n",
       "      <th>2</th>\n",
       "      <td>['drama']</td>\n",
       "      <td>224</td>\n",
       "    </tr>\n",
       "    <tr>\n",
       "      <th>3</th>\n",
       "      <td>['comedy', 'documentation']</td>\n",
       "      <td>100</td>\n",
       "    </tr>\n",
       "    <tr>\n",
       "      <th>4</th>\n",
       "      <td>['comedy', 'drama']</td>\n",
       "      <td>84</td>\n",
       "    </tr>\n",
       "    <tr>\n",
       "      <th>5</th>\n",
       "      <td>['drama', 'romance']</td>\n",
       "      <td>76</td>\n",
       "    </tr>\n",
       "    <tr>\n",
       "      <th>6</th>\n",
       "      <td>['drama', 'comedy']</td>\n",
       "      <td>65</td>\n",
       "    </tr>\n",
       "    <tr>\n",
       "      <th>7</th>\n",
       "      <td>['comedy', 'romance']</td>\n",
       "      <td>60</td>\n",
       "    </tr>\n",
       "    <tr>\n",
       "      <th>8</th>\n",
       "      <td>['romance', 'comedy']</td>\n",
       "      <td>48</td>\n",
       "    </tr>\n",
       "    <tr>\n",
       "      <th>9</th>\n",
       "      <td>['comedy', 'drama', 'romance']</td>\n",
       "      <td>44</td>\n",
       "    </tr>\n",
       "  </tbody>\n",
       "</table>\n",
       "</div>"
      ],
      "text/plain": [
       "                           genres  title_count\n",
       "0                      ['comedy']          384\n",
       "1               ['documentation']          230\n",
       "2                       ['drama']          224\n",
       "3     ['comedy', 'documentation']          100\n",
       "4             ['comedy', 'drama']           84\n",
       "5            ['drama', 'romance']           76\n",
       "6             ['drama', 'comedy']           65\n",
       "7           ['comedy', 'romance']           60\n",
       "8           ['romance', 'comedy']           48\n",
       "9  ['comedy', 'drama', 'romance']           44"
      ]
     },
     "execution_count": 62,
     "metadata": {},
     "output_type": "execute_result"
    }
   ],
   "source": [
    "query=\"\"\"\n",
    "SELECT genres, \n",
    "COUNT(*) AS title_count\n",
    "FROM Netflix_data \n",
    "WHERE type = 'MOVIE'\n",
    "GROUP BY genres\n",
    "ORDER BY title_count DESC\n",
    "LIMIT 10;\n",
    "\"\"\"\n",
    "Top_10_Genres_Show=pd.read_sql(query,conn)\n",
    "Top_10_Genres_Show"
   ]
  },
  {
   "cell_type": "code",
   "execution_count": 67,
   "id": "d8fe6f4a-6c0d-4113-be84-01ccbee65f5f",
   "metadata": {},
   "outputs": [
    {
     "data": {
      "text/plain": [
       "([0, 1, 2, 3, 4, 5, 6, 7, 8, 9],\n",
       " [Text(0, 0, \"['comedy']\"),\n",
       "  Text(1, 0, \"['documentation']\"),\n",
       "  Text(2, 0, \"['drama']\"),\n",
       "  Text(3, 0, \"['comedy', 'documentation']\"),\n",
       "  Text(4, 0, \"['comedy', 'drama']\"),\n",
       "  Text(5, 0, \"['drama', 'romance']\"),\n",
       "  Text(6, 0, \"['drama', 'comedy']\"),\n",
       "  Text(7, 0, \"['comedy', 'romance']\"),\n",
       "  Text(8, 0, \"['romance', 'comedy']\"),\n",
       "  Text(9, 0, \"['comedy', 'drama', 'romance']\")])"
      ]
     },
     "execution_count": 67,
     "metadata": {},
     "output_type": "execute_result"
    },
    {
     "data": {
      "image/png": "[encoded data removed]",
      "text/plain": [
       "<Figure size 800x400 with 1 Axes>"
      ]
     },
     "metadata": {},
     "output_type": "display_data"
    }
   ],
   "source": [
    "plt.figure(figsize=(8, 4))\n",
    "plt.bar(Top_10_Genres_Show['genres'], Top_10_Genres_Show['title_count'])\n",
    "plt.title(\"Top_10_Genres_Show\")\n",
    "plt.xlabel(\"Generes\")\n",
    "plt.ylabel(\"count\")\n",
    "plt.xticks(rotation=45, ha='right')  "
   ]
  },
  {
   "cell_type": "code",
   "execution_count": 31,
   "id": "855688f6-1947-4fbb-8d55-cb04295477e0",
   "metadata": {},
   "outputs": [
    {
     "data": {
      "text/html": [
       "<div>\n",
       "<style scoped>\n",
       "    .dataframe tbody tr th:only-of-type {\n",
       "        vertical-align: middle;\n",
       "    }\n",
       "\n",
       "    .dataframe tbody tr th {\n",
       "        vertical-align: top;\n",
       "    }\n",
       "\n",
       "    .dataframe thead th {\n",
       "        text-align: right;\n",
       "    }\n",
       "</style>\n",
       "<table border=\"1\" class=\"dataframe\">\n",
       "  <thead>\n",
       "    <tr style=\"text-align: right;\">\n",
       "      <th></th>\n",
       "      <th>genres</th>\n",
       "      <th>title_count</th>\n",
       "    </tr>\n",
       "  </thead>\n",
       "  <tbody>\n",
       "    <tr>\n",
       "      <th>0</th>\n",
       "      <td>['comedy']</td>\n",
       "      <td>484</td>\n",
       "    </tr>\n",
       "    <tr>\n",
       "      <th>1</th>\n",
       "      <td>['documentation']</td>\n",
       "      <td>329</td>\n",
       "    </tr>\n",
       "    <tr>\n",
       "      <th>2</th>\n",
       "      <td>['drama']</td>\n",
       "      <td>328</td>\n",
       "    </tr>\n",
       "  </tbody>\n",
       "</table>\n",
       "</div>"
      ],
      "text/plain": [
       "              genres  title_count\n",
       "0         ['comedy']          484\n",
       "1  ['documentation']          329\n",
       "2          ['drama']          328"
      ]
     },
     "execution_count": 31,
     "metadata": {},
     "output_type": "execute_result"
    }
   ],
   "source": [
    "query=\"\"\"\n",
    "SELECT genres, \n",
    "COUNT(*) AS title_count\n",
    "FROM Netflix_data \n",
    "WHERE type = 'MOVIE' OR type='SHOW'\n",
    "GROUP BY genres\n",
    "ORDER BY title_count DESC\n",
    "LIMIT 3;\n",
    "\"\"\"\n",
    "Top_3_Genres_Overall=pd.read_sql(query,conn)\n",
    "Top_3_Genres_Overall"
   ]
  },
  {
   "cell_type": "code",
   "execution_count": null,
   "id": "d333f7f9-ba8c-44b5-921c-0d7c14c030b7",
   "metadata": {},
   "outputs": [],
   "source": []
  },
  {
   "cell_type": "code",
   "execution_count": null,
   "id": "9a41ab3a-2a52-48d2-b7b5-c504c817b6b9",
   "metadata": {},
   "outputs": [],
   "source": []
  }
 ],
 "metadata": {
  "kernelspec": {
   "display_name": "Python 3 (ipykernel)",
   "language": "python",
   "name": "python3"
  },
  "language_info": {
   "codemirror_mode": {
    "name": "ipython",
    "version": 3
   },
   "file_extension": ".py",
   "mimetype": "text/x-python",
   "name": "python",
   "nbconvert_exporter": "python",
   "pygments_lexer": "ipython3",
   "version": "3.13.5"
  }
 },
 "nbformat": 4,
 "nbformat_minor": 5
}
